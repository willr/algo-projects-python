{
 "cells": [
  {
   "cell_type": "code",
   "execution_count": 27,
   "id": "904da6db-7ee4-4be0-8daa-0e1f42824ffa",
   "metadata": {},
   "outputs": [],
   "source": [
    "class NaryNode:\n",
    "    indent = '  '\n",
    "    def __init__(self, value):\n",
    "        self.value = value\n",
    "        self.children = []\n",
    "\n",
    "    def add_child(self, child_node):\n",
    "        self.children.append(child_node)\n",
    "        return child_node\n",
    "        \n",
    "    def __str__(self, level: int=0):\n",
    "        \"\"\"\n",
    "        # my_value: child1_value child2_value child3_value ...\n",
    "        Root:\n",
    "          A:\n",
    "            D:\n",
    "              G:\n",
    "            E:\n",
    "          B:\n",
    "          C:\n",
    "            F:\n",
    "              H:\n",
    "              I:\n",
    "        \"\"\"\n",
    "        prefix = NaryNode.indent * level\n",
    "        child_level = level + 1\n",
    "        child_prefix = NaryNode.indent * child_level\n",
    "        result = []\n",
    "        result.append(f'{prefix}{self.value}:')\n",
    "        for n in self.children:\n",
    "            child_val = n.__str__(child_level)\n",
    "            result.append(f'{child_val}')\n",
    "        return '\\n'.join(result)\n",
    "    \n",
    "    def find_node(self, value: str):\n",
    "        if self.value == value:\n",
    "            return self\n",
    "        else:\n",
    "            found = None\n",
    "            if len(self.children) > 0:\n",
    "                for c in self.children:\n",
    "                    found = c.find_node(value)\n",
    "                    if found is not None:\n",
    "                        break\n",
    "            return found\n",
    "    \n",
    "\n",
    "def find_value(node: NaryNode, value: str):\n",
    "    result = node.find_node(value)\n",
    "    if result is None:\n",
    "        print(f'Value {value} not found')\n",
    "    else:\n",
    "        print(f'found {value}')"
   ]
  },
  {
   "cell_type": "code",
   "execution_count": 28,
   "id": "56685b42-fff8-4671-92ba-3a1cf309cee2",
   "metadata": {},
   "outputs": [],
   "source": [
    "\"\"\"\n",
    "  Root\n",
    "    |\n",
    " +--+--+\n",
    " A  B  C\n",
    " |     |\n",
    "+-+    +\n",
    "D E    F\n",
    "|      |\n",
    "+     +-+\n",
    "G     H I\n",
    "\"\"\"\n",
    "root = NaryNode('Root')\n",
    "node_a = root.add_child(NaryNode('A'))\n",
    "node_b = root.add_child(NaryNode('B'))\n",
    "node_c = root.add_child(NaryNode('C'))\n",
    "node_d = node_a.add_child(NaryNode('D'))\n",
    "node_e = node_a.add_child(NaryNode('E'))\n",
    "node_f = node_c.add_child(NaryNode('F'))\n",
    "node_g = node_d.add_child(NaryNode('G'))\n",
    "node_h = node_f.add_child(NaryNode('H'))\n",
    "node_i = node_f.add_child(NaryNode('I'))"
   ]
  },
  {
   "cell_type": "code",
   "execution_count": 29,
   "id": "9fa091c2-7cba-46d1-bb14-eab66b1fa5c7",
   "metadata": {},
   "outputs": [
    {
     "name": "stdout",
     "output_type": "stream",
     "text": [
      "Root:\n",
      "  A:\n",
      "    D:\n",
      "      G:\n",
      "    E:\n",
      "  B:\n",
      "  C:\n",
      "    F:\n",
      "      H:\n",
      "      I:\n"
     ]
    }
   ],
   "source": [
    "print(f'{root}')\n",
    "# print(f'{node_a}')\n",
    "# print(f'{node_b}')\n",
    "# print(f'{node_c}')\n",
    "# print(f'{node_d}')\n",
    "# print(f'{node_e}')\n",
    "# print(f'{node_f}')\n",
    "# print(f'{node_g}')\n",
    "# print(f'{node_h}')\n",
    "# print(f'{node_i}')"
   ]
  },
  {
   "cell_type": "code",
   "execution_count": 30,
   "id": "3cbbcca5-95f4-41d5-8d81-4e37e44ad5b1",
   "metadata": {},
   "outputs": [
    {
     "name": "stdout",
     "output_type": "stream",
     "text": [
      "found Root\n",
      "found E\n",
      "found F\n",
      "Value Q not found\n",
      "found F\n"
     ]
    }
   ],
   "source": [
    "# Find some values.\n",
    "find_value(root, 'Root')\n",
    "find_value(root, 'E')\n",
    "find_value(root, 'F')\n",
    "find_value(root, 'Q')\n",
    "\n",
    "# Find F in the C subtree.\n",
    "find_value(node_c, 'F')"
   ]
  },
  {
   "cell_type": "code",
   "execution_count": null,
   "id": "618b70a1-acee-4078-8f2b-f504b3924940",
   "metadata": {},
   "outputs": [],
   "source": []
  }
 ],
 "metadata": {
  "kernelspec": {
   "display_name": "Python 3 (ipykernel)",
   "language": "python",
   "name": "python3"
  },
  "language_info": {
   "codemirror_mode": {
    "name": "ipython",
    "version": 3
   },
   "file_extension": ".py",
   "mimetype": "text/x-python",
   "name": "python",
   "nbconvert_exporter": "python",
   "pygments_lexer": "ipython3",
   "version": "3.9.13"
  }
 },
 "nbformat": 4,
 "nbformat_minor": 5
}
