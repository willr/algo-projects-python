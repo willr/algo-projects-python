{
 "cells": [
  {
   "cell_type": "code",
   "execution_count": 27,
   "id": "ea90b45a-5413-4b0f-b552-c83f6263fd98",
   "metadata": {},
   "outputs": [],
   "source": [
    "\n",
    "class BinaryNode:\n",
    "    indent = '  '\n",
    "    def __init__(self, value):\n",
    "        self.value = value\n",
    "        self.left_child = None\n",
    "        self.right_child = None\n",
    "\n",
    "    def add_left(self, child_node):\n",
    "        self.left_child = child_node\n",
    "        return child_node\n",
    "    \n",
    "    def add_right(self, child_node):\n",
    "        self.right_child = child_node\n",
    "        return child_node\n",
    "        \n",
    "    def __str__(self, level: int=0):\n",
    "        \"\"\"\n",
    "        # my_value: left_child_value right_child_value\n",
    "        Root:\n",
    "          A:\n",
    "            C:\n",
    "            D:\n",
    "          B:\n",
    "            None\n",
    "            E:\n",
    "              None\n",
    "              F:\n",
    "        \"\"\"\n",
    "        child_level = level + 1\n",
    "        prefix = BinaryNode.indent * level\n",
    "        child_prefix = BinaryNode.indent * child_level\n",
    "        node_str = f'{prefix}{self.value}:'\n",
    "\n",
    "        if self.left_child is None and self.right_child is None:\n",
    "            return f'{node_str}'\n",
    "        else:\n",
    "            result = f'{node_str}\\n'\n",
    "            \n",
    "            if self.left_child is None:\n",
    "                left = f'{child_prefix}{None}'\n",
    "            else:\n",
    "                left = self.left_child.__str__(child_level)\n",
    "                \n",
    "            if self.right_child is None:\n",
    "                right = f'{child_prefix}{None}'\n",
    "            else:\n",
    "                right = self.right_child.__str__(child_level)\n",
    "                \n",
    "            return f'{node_str}\\n{left}\\n{right}'\n",
    "    \n",
    "    \n",
    "    \n"
   ]
  },
  {
   "cell_type": "code",
   "execution_count": 28,
   "id": "18da0ade-2b97-4fa9-b004-626fc7389569",
   "metadata": {},
   "outputs": [],
   "source": [
    "root = BinaryNode('Root')\n",
    "node_a = root.add_left(BinaryNode('A'))\n",
    "node_b = root.add_right(BinaryNode('B'))\n",
    "node_c = node_a.add_left(BinaryNode('C'))\n",
    "node_d = node_a.add_right(BinaryNode('D'))\n",
    "node_e = node_b.add_right(BinaryNode('E'))\n",
    "node_f = node_e.add_right(BinaryNode('F'))\n"
   ]
  },
  {
   "cell_type": "code",
   "execution_count": 29,
   "id": "48d9bf73-c483-4204-a1df-3710a6fb6623",
   "metadata": {},
   "outputs": [
    {
     "name": "stdout",
     "output_type": "stream",
     "text": [
      "Root:\n",
      "  A:\n",
      "    C:\n",
      "    D:\n",
      "  B:\n",
      "    None\n",
      "    E:\n",
      "      None\n",
      "      F:\n"
     ]
    }
   ],
   "source": [
    "print(f'{root}')\n",
    "# print(f'{node_a}')\n",
    "# print(f'{node_b}')\n",
    "# print(f'{node_c}')\n",
    "# print(f'{node_d}')\n",
    "# print(f'{node_e}')\n",
    "# print(f'{node_f}')"
   ]
  },
  {
   "cell_type": "code",
   "execution_count": null,
   "id": "1b4c4b4d-214a-447e-84e0-79704b97d946",
   "metadata": {},
   "outputs": [],
   "source": []
  }
 ],
 "metadata": {
  "kernelspec": {
   "display_name": "Python 3 (ipykernel)",
   "language": "python",
   "name": "python3"
  },
  "language_info": {
   "codemirror_mode": {
    "name": "ipython",
    "version": 3
   },
   "file_extension": ".py",
   "mimetype": "text/x-python",
   "name": "python",
   "nbconvert_exporter": "python",
   "pygments_lexer": "ipython3",
   "version": "3.9.13"
  }
 },
 "nbformat": 4,
 "nbformat_minor": 5
}
