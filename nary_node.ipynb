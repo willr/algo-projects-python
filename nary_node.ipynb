{
 "cells": [
  {
   "cell_type": "code",
   "execution_count": 1,
   "id": "904da6db-7ee4-4be0-8daa-0e1f42824ffa",
   "metadata": {},
   "outputs": [],
   "source": [
    "class NaryNode:\n",
    "    def __init__(self, value):\n",
    "        self.value = value\n",
    "        self.children = []\n",
    "\n",
    "    def add_child(self, child_node):\n",
    "        self.children.append(child_node)\n",
    "        return child_node\n",
    "        \n",
    "    def __str__(self):\n",
    "        \"\"\"\n",
    "        # my_value: child1_value child2_value child3_value ...\n",
    "        \"\"\"\n",
    "        child_vals = ''\n",
    "        for n in self.children:\n",
    "            child_vals = child_vals + f' {n.value}'\n",
    "        return f'{self.value}: {child_vals}'"
   ]
  },
  {
   "cell_type": "code",
   "execution_count": 2,
   "id": "56685b42-fff8-4671-92ba-3a1cf309cee2",
   "metadata": {},
   "outputs": [],
   "source": [
    "\"\"\"\n",
    "  Root\n",
    "    |\n",
    " +--+--+\n",
    " A  B  C\n",
    " |     |\n",
    "+-+    +\n",
    "D E    F\n",
    "|      |\n",
    "+     +-+\n",
    "G     H I\n",
    "\"\"\"\n",
    "root = NaryNode('Root')\n",
    "node_a = root.add_child(NaryNode('A'))\n",
    "node_b = root.add_child(NaryNode('B'))\n",
    "node_c = root.add_child(NaryNode('C'))\n",
    "node_d = node_a.add_child(NaryNode('D'))\n",
    "node_e = node_a.add_child(NaryNode('E'))\n",
    "node_f = node_c.add_child(NaryNode('F'))\n",
    "node_g = node_d.add_child(NaryNode('G'))\n",
    "node_h = node_f.add_child(NaryNode('H'))\n",
    "node_i = node_f.add_child(NaryNode('I'))"
   ]
  },
  {
   "cell_type": "code",
   "execution_count": 3,
   "id": "9fa091c2-7cba-46d1-bb14-eab66b1fa5c7",
   "metadata": {},
   "outputs": [
    {
     "name": "stdout",
     "output_type": "stream",
     "text": [
      "Root:  A B C\n",
      "A:  D E\n",
      "B: \n",
      "C:  F\n",
      "D:  G\n",
      "E: \n",
      "F:  H I\n",
      "G: \n",
      "H: \n",
      "I: \n"
     ]
    }
   ],
   "source": [
    "print(f'{root}')\n",
    "print(f'{node_a}')\n",
    "print(f'{node_b}')\n",
    "print(f'{node_c}')\n",
    "print(f'{node_d}')\n",
    "print(f'{node_e}')\n",
    "print(f'{node_f}')\n",
    "print(f'{node_g}')\n",
    "print(f'{node_h}')\n",
    "print(f'{node_i}')"
   ]
  },
  {
   "cell_type": "code",
   "execution_count": null,
   "id": "3cbbcca5-95f4-41d5-8d81-4e37e44ad5b1",
   "metadata": {},
   "outputs": [],
   "source": []
  }
 ],
 "metadata": {
  "kernelspec": {
   "display_name": "Python 3 (ipykernel)",
   "language": "python",
   "name": "python3"
  },
  "language_info": {
   "codemirror_mode": {
    "name": "ipython",
    "version": 3
   },
   "file_extension": ".py",
   "mimetype": "text/x-python",
   "name": "python",
   "nbconvert_exporter": "python",
   "pygments_lexer": "ipython3",
   "version": "3.9.13"
  }
 },
 "nbformat": 4,
 "nbformat_minor": 5
}
